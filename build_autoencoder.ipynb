{
  "nbformat": 4,
  "nbformat_minor": 0,
  "metadata": {
    "colab": {
      "name": "build_autoencoder.ipynb",
      "provenance": [],
      "authorship_tag": "ABX9TyO1CE0iFW9mOFi1hrYpVdmT",
      "include_colab_link": true
    },
    "kernelspec": {
      "name": "python3",
      "display_name": "Python 3"
    },
    "language_info": {
      "name": "python"
    },
    "accelerator": "GPU"
  },
  "cells": [
    {
      "cell_type": "markdown",
      "metadata": {
        "id": "view-in-github",
        "colab_type": "text"
      },
      "source": [
        "<a href=\"https://colab.research.google.com/github/saipuneet357/AutoEncoders/blob/main/build_autoencoder.ipynb\" target=\"_parent\"><img src=\"https://colab.research.google.com/assets/colab-badge.svg\" alt=\"Open In Colab\"/></a>"
      ]
    },
    {
      "cell_type": "code",
      "metadata": {
        "id": "C19ivgEOfYhz"
      },
      "source": [
        "import numpy as np \n",
        "import pandas as pd"
      ],
      "execution_count": null,
      "outputs": []
    },
    {
      "cell_type": "code",
      "metadata": {
        "id": "bj2FrMgxgZQT"
      },
      "source": [
        "import os \n",
        "os.environ[\"CUDA_DEVICE_ORDER\"]=\"PCI_BUS_ID\"\n",
        "os.environ[\"CUDA_VISIBLE_DEVICES\"]=\"0\" #model will be trained on GPU 1"
      ],
      "execution_count": null,
      "outputs": []
    },
    {
      "cell_type": "code",
      "metadata": {
        "id": "yLfDyQZJgo_z"
      },
      "source": [
        "import keras\n",
        "from matplotlib import pyplot as plt\n",
        "import numpy as np\n",
        "import gzip\n",
        "%matplotlib inline\n",
        "from keras.layers import Input,Conv2D,MaxPooling2D,UpSampling2D\n",
        "from keras.models import Model\n",
        "from keras.optimizers import RMSprop"
      ],
      "execution_count": null,
      "outputs": []
    },
    {
      "cell_type": "code",
      "metadata": {
        "id": "1JY3L1VzguCC"
      },
      "source": [
        "from google.colab import drive"
      ],
      "execution_count": null,
      "outputs": []
    },
    {
      "cell_type": "code",
      "metadata": {
        "colab": {
          "base_uri": "https://localhost:8080/"
        },
        "id": "soP0F3RrhpGz",
        "outputId": "953605c0-f62e-423d-ca6a-1434b27f8fd4"
      },
      "source": [
        "drive.mount('/content/gdrive')\n"
      ],
      "execution_count": null,
      "outputs": [
        {
          "output_type": "stream",
          "text": [
            "Mounted at /content/gdrive\n"
          ],
          "name": "stdout"
        }
      ]
    },
    {
      "cell_type": "code",
      "metadata": {
        "id": "Hn7pLkMhhzH7"
      },
      "source": [
        "location = '/content/gdrive/MyDrive/NotMnist'  "
      ],
      "execution_count": null,
      "outputs": []
    },
    {
      "cell_type": "code",
      "metadata": {
        "id": "agwDq7SHiBhj"
      },
      "source": [
        "def extract_data(filename, num_images):\n",
        "    with gzip.open(filename) as bytestream:\n",
        "        bytestream.read(16)\n",
        "        buf = bytestream.read(28 * 28 * num_images)\n",
        "        data = np.frombuffer(buf, dtype=np.uint8).astype(np.float32)\n",
        "        data = data.reshape(num_images, 28,28)\n",
        "        return data"
      ],
      "execution_count": null,
      "outputs": []
    },
    {
      "cell_type": "code",
      "metadata": {
        "id": "AahkkWdHjIhr"
      },
      "source": [
        "train_data = extract_data(location+'/train-images-idx3-ubyte.gz', 60000)\n",
        "test_data = extract_data(location+'/t10k-images-idx3-ubyte.gz', 10000)"
      ],
      "execution_count": null,
      "outputs": []
    },
    {
      "cell_type": "code",
      "metadata": {
        "id": "RvIBzCe2jTpq"
      },
      "source": [
        "def extract_labels(filename, num_images):\n",
        "    with gzip.open(filename) as bytestream:\n",
        "        bytestream.read(8)\n",
        "        buf = bytestream.read(1 * num_images)\n",
        "        labels = np.frombuffer(buf, dtype=np.uint8).astype(np.int64)\n",
        "        return labels"
      ],
      "execution_count": null,
      "outputs": []
    },
    {
      "cell_type": "code",
      "metadata": {
        "id": "sk77FlUaji2b"
      },
      "source": [
        "train_labels = extract_labels(location+'/train-labels-idx1-ubyte.gz',60000)\n",
        "test_labels = extract_labels(location+'/t10k-labels-idx1-ubyte.gz',10000)"
      ],
      "execution_count": null,
      "outputs": []
    },
    {
      "cell_type": "code",
      "metadata": {
        "colab": {
          "base_uri": "https://localhost:8080/"
        },
        "id": "ChgpR5TujoPr",
        "outputId": "050b2c4f-5461-4b7e-823c-8dfd5117b6f8"
      },
      "source": [
        "# Shapes of training set\n",
        "print(\"Training set (images) shape: {shape}\".format(shape=train_data.shape))\n",
        "\n",
        "# Shapes of test set\n",
        "print(\"Test set (images) shape: {shape}\".format(shape=test_data.shape))"
      ],
      "execution_count": null,
      "outputs": [
        {
          "output_type": "stream",
          "text": [
            "Training set (images) shape: (60000, 28, 28)\n",
            "Test set (images) shape: (10000, 28, 28)\n"
          ],
          "name": "stdout"
        }
      ]
    },
    {
      "cell_type": "code",
      "metadata": {
        "id": "a2qlh4kRjsXt"
      },
      "source": [
        "# Create dictionary of target classes\n",
        "label_dict = {\n",
        " 0: 'A',\n",
        " 1: 'B',\n",
        " 2: 'C',\n",
        " 3: 'D',\n",
        " 4: 'E',\n",
        " 5: 'F',\n",
        " 6: 'G',\n",
        " 7: 'H',\n",
        " 8: 'I',\n",
        " 9: 'J',\n",
        "}"
      ],
      "execution_count": null,
      "outputs": []
    },
    {
      "cell_type": "code",
      "metadata": {
        "colab": {
          "base_uri": "https://localhost:8080/",
          "height": 208
        },
        "id": "usZ-nQuJj1qr",
        "outputId": "42c71acb-fb0e-43ad-be4a-0c8c83747e17"
      },
      "source": [
        "plt.figure(figsize=[5,5])\n",
        "\n",
        "# Display the first image in training data\n",
        "plt.subplot(121)\n",
        "curr_img = np.reshape(train_data[0], (28,28))\n",
        "curr_lbl = train_labels[0]\n",
        "plt.imshow(curr_img, cmap='gray')\n",
        "plt.title(\"(Label: \" + str(label_dict[curr_lbl]) + \")\")\n",
        "\n",
        "# Display the first image in testing data\n",
        "plt.subplot(122)\n",
        "curr_img = np.reshape(test_data[0], (28,28))\n",
        "curr_lbl = test_labels[0]\n",
        "plt.imshow(curr_img, cmap='gray')\n",
        "plt.title(\"(Label: \" + str(label_dict[curr_lbl]) + \")\")"
      ],
      "execution_count": null,
      "outputs": [
        {
          "output_type": "execute_result",
          "data": {
            "text/plain": [
              "Text(0.5, 1.0, '(Label: D)')"
            ]
          },
          "metadata": {
            "tags": []
          },
          "execution_count": 17
        },
        {
          "output_type": "display_data",
          "data": {
            "image/png": "[encoded data removed]",
            "text/plain": [
              "<Figure size 360x360 with 2 Axes>"
            ]
          },
          "metadata": {
            "tags": [],
            "needs_background": "light"
          }
        }
      ]
    },
    {
      "cell_type": "code",
      "metadata": {
        "id": "eei8PGyNkAo5"
      },
      "source": [
        "train_data = train_data.reshape(-1,28,28,1)\n",
        "test_data = test_data.reshape(-1, 28, 28, 1)"
      ],
      "execution_count": null,
      "outputs": []
    },
    {
      "cell_type": "code",
      "metadata": {
        "id": "wroBokIWmVFf"
      },
      "source": [
        "train_data = train_data/np.max(train_data)\n",
        "test_data = test_data/np.max(test_data)"
      ],
      "execution_count": null,
      "outputs": []
    },
    {
      "cell_type": "code",
      "metadata": {
        "id": "tlVGB2IVmf2V"
      },
      "source": [
        "from sklearn.model_selection import train_test_split\n",
        "train_X,valid_X,train_ground,valid_ground = train_test_split(train_data,\n",
        "                                                             train_data, \n",
        "                                                             test_size=0.2, \n",
        "                                                             random_state=13)"
      ],
      "execution_count": null,
      "outputs": []
    },
    {
      "cell_type": "code",
      "metadata": {
        "id": "aXKmNYYnm6Ck"
      },
      "source": [
        "batch_size = 128\n",
        "epochs = 50\n",
        "inChannel = 1\n",
        "x, y = 28, 28\n",
        "input_img = Input(shape = (x, y, inChannel))"
      ],
      "execution_count": null,
      "outputs": []
    },
    {
      "cell_type": "code",
      "metadata": {
        "id": "kT75RccYuLWg"
      },
      "source": [
        "def autoencoder(input_img):\n",
        "    #encoder\n",
        "    #input = 28 x 28 x 1 (wide and thin)\n",
        "    conv1 = Conv2D(32, (3, 3), activation='relu', padding='same')(input_img) #28 x 28 x 32\n",
        "    pool1 = MaxPooling2D(pool_size=(2, 2))(conv1) #14 x 14 x 32\n",
        "    conv2 = Conv2D(64, (3, 3), activation='relu', padding='same')(pool1) #14 x 14 x 64\n",
        "    pool2 = MaxPooling2D(pool_size=(2, 2))(conv2) #7 x 7 x 64\n",
        "    conv3 = Conv2D(128, (3, 3), activation='relu', padding='same')(pool2) #7 x 7 x 128 (small and thick)\n",
        "\n",
        "    #decoder\n",
        "    conv4 = Conv2D(128, (3, 3), activation='relu', padding='same')(conv3) #7 x 7 x 128\n",
        "    up1 = UpSampling2D((2,2))(conv4) # 14 x 14 x 128\n",
        "    conv5 = Conv2D(64, (3, 3), activation='relu', padding='same')(up1) # 14 x 14 x 64\n",
        "    up2 = UpSampling2D((2,2))(conv5) # 28 x 28 x 64\n",
        "    decoded = Conv2D(1, (3, 3), activation='sigmoid', padding='same')(up2) # 28 x 28 x 1\n",
        "    return decoded"
      ],
      "execution_count": null,
      "outputs": []
    },
    {
      "cell_type": "code",
      "metadata": {
        "id": "OukB-VJhw2qp"
      },
      "source": [
        "autoencoder = Model(input_img, autoencoder(input_img))\n",
        "autoencoder.compile(loss='mean_squared_error', optimizer = RMSprop())"
      ],
      "execution_count": null,
      "outputs": []
    },
    {
      "cell_type": "code",
      "metadata": {
        "colab": {
          "base_uri": "https://localhost:8080/"
        },
        "id": "oJHs8J4hw9-w",
        "outputId": "22caa472-5c22-4ad1-eb1e-bd8009849741"
      },
      "source": [
        "autoencoder.summary()"
      ],
      "execution_count": null,
      "outputs": [
        {
          "output_type": "stream",
          "text": [
            "Model: \"model\"\n",
            "_________________________________________________________________\n",
            "Layer (type)                 Output Shape              Param #   \n",
            "=================================================================\n",
            "input_1 (InputLayer)         [(None, 28, 28, 1)]       0         \n",
            "_________________________________________________________________\n",
            "conv2d (Conv2D)              (None, 28, 28, 32)        320       \n",
            "_________________________________________________________________\n",
            "max_pooling2d (MaxPooling2D) (None, 14, 14, 32)        0         \n",
            "_________________________________________________________________\n",
            "conv2d_1 (Conv2D)            (None, 14, 14, 64)        18496     \n",
            "_________________________________________________________________\n",
            "max_pooling2d_1 (MaxPooling2 (None, 7, 7, 64)          0         \n",
            "_________________________________________________________________\n",
            "conv2d_2 (Conv2D)            (None, 7, 7, 128)         73856     \n",
            "_________________________________________________________________\n",
            "conv2d_3 (Conv2D)            (None, 7, 7, 128)         147584    \n",
            "_________________________________________________________________\n",
            "up_sampling2d (UpSampling2D) (None, 14, 14, 128)       0         \n",
            "_________________________________________________________________\n",
            "conv2d_4 (Conv2D)            (None, 14, 14, 64)        73792     \n",
            "_________________________________________________________________\n",
            "up_sampling2d_1 (UpSampling2 (None, 28, 28, 64)        0         \n",
            "_________________________________________________________________\n",
            "conv2d_5 (Conv2D)            (None, 28, 28, 1)         577       \n",
            "=================================================================\n",
            "Total params: 314,625\n",
            "Trainable params: 314,625\n",
            "Non-trainable params: 0\n",
            "_________________________________________________________________\n"
          ],
          "name": "stdout"
        }
      ]
    },
    {
      "cell_type": "code",
      "metadata": {
        "colab": {
          "base_uri": "https://localhost:8080/"
        },
        "id": "IJFTCsPQxAcQ",
        "outputId": "b2da15ac-5553-4203-a774-dbbfa31c3256"
      },
      "source": [
        "autoencoder_train = autoencoder.fit(train_X, train_ground, batch_size=batch_size,epochs=epochs,verbose=1,validation_data=(valid_X, valid_ground))\n"
      ],
      "execution_count": null,
      "outputs": [
        {
          "output_type": "stream",
          "text": [
            "Epoch 1/50\n",
            "375/375 [==============================] - 54s 30ms/step - loss: 0.0815 - val_loss: 0.0126\n",
            "Epoch 2/50\n",
            "375/375 [==============================] - 10s 28ms/step - loss: 0.0110 - val_loss: 0.0078\n",
            "Epoch 3/50\n",
            "375/375 [==============================] - 10s 28ms/step - loss: 0.0075 - val_loss: 0.0062\n",
            "Epoch 4/50\n",
            "375/375 [==============================] - 10s 28ms/step - loss: 0.0059 - val_loss: 0.0048\n",
            "Epoch 5/50\n",
            "375/375 [==============================] - 10s 28ms/step - loss: 0.0050 - val_loss: 0.0047\n",
            "Epoch 6/50\n",
            "375/375 [==============================] - 10s 28ms/step - loss: 0.0044 - val_loss: 0.0039\n",
            "Epoch 7/50\n",
            "375/375 [==============================] - 10s 28ms/step - loss: 0.0039 - val_loss: 0.0033\n",
            "Epoch 8/50\n",
            "375/375 [==============================] - 10s 28ms/step - loss: 0.0036 - val_loss: 0.0032\n",
            "Epoch 9/50\n",
            "375/375 [==============================] - 10s 27ms/step - loss: 0.0033 - val_loss: 0.0030\n",
            "Epoch 10/50\n",
            "375/375 [==============================] - 10s 27ms/step - loss: 0.0031 - val_loss: 0.0030\n",
            "Epoch 11/50\n",
            "375/375 [==============================] - 10s 28ms/step - loss: 0.0030 - val_loss: 0.0028\n",
            "Epoch 12/50\n",
            "375/375 [==============================] - 10s 27ms/step - loss: 0.0028 - val_loss: 0.0027\n",
            "Epoch 13/50\n",
            "375/375 [==============================] - 10s 28ms/step - loss: 0.0026 - val_loss: 0.0025\n",
            "Epoch 14/50\n",
            "375/375 [==============================] - 10s 28ms/step - loss: 0.0026 - val_loss: 0.0026\n",
            "Epoch 15/50\n",
            "375/375 [==============================] - 10s 28ms/step - loss: 0.0025 - val_loss: 0.0028\n",
            "Epoch 16/50\n",
            "375/375 [==============================] - 10s 28ms/step - loss: 0.0024 - val_loss: 0.0024\n",
            "Epoch 17/50\n",
            "375/375 [==============================] - 10s 28ms/step - loss: 0.0023 - val_loss: 0.0025\n",
            "Epoch 18/50\n",
            "375/375 [==============================] - 10s 28ms/step - loss: 0.0023 - val_loss: 0.0021\n",
            "Epoch 19/50\n",
            "375/375 [==============================] - 10s 28ms/step - loss: 0.0022 - val_loss: 0.0022\n",
            "Epoch 20/50\n",
            "375/375 [==============================] - 10s 28ms/step - loss: 0.0021 - val_loss: 0.0020\n",
            "Epoch 21/50\n",
            "375/375 [==============================] - 10s 28ms/step - loss: 0.0021 - val_loss: 0.0025\n",
            "Epoch 22/50\n",
            "375/375 [==============================] - 10s 28ms/step - loss: 0.0021 - val_loss: 0.0019\n",
            "Epoch 23/50\n",
            "375/375 [==============================] - 10s 28ms/step - loss: 0.0021 - val_loss: 0.0020\n",
            "Epoch 24/50\n",
            "375/375 [==============================] - 10s 28ms/step - loss: 0.0020 - val_loss: 0.0019\n",
            "Epoch 25/50\n",
            "375/375 [==============================] - 10s 28ms/step - loss: 0.0019 - val_loss: 0.0020\n",
            "Epoch 26/50\n",
            "375/375 [==============================] - 10s 27ms/step - loss: 0.0019 - val_loss: 0.0019\n",
            "Epoch 27/50\n",
            "375/375 [==============================] - 10s 28ms/step - loss: 0.0018 - val_loss: 0.0020\n",
            "Epoch 28/50\n",
            "375/375 [==============================] - 10s 27ms/step - loss: 0.0019 - val_loss: 0.0021\n",
            "Epoch 29/50\n",
            "375/375 [==============================] - 10s 28ms/step - loss: 0.0019 - val_loss: 0.0024\n",
            "Epoch 30/50\n",
            "375/375 [==============================] - 10s 28ms/step - loss: 0.0018 - val_loss: 0.0019\n",
            "Epoch 31/50\n",
            "375/375 [==============================] - 10s 28ms/step - loss: 0.0018 - val_loss: 0.0018\n",
            "Epoch 32/50\n",
            "375/375 [==============================] - 10s 28ms/step - loss: 0.0018 - val_loss: 0.0018\n",
            "Epoch 33/50\n",
            "375/375 [==============================] - 10s 28ms/step - loss: 0.0018 - val_loss: 0.0017\n",
            "Epoch 34/50\n",
            "375/375 [==============================] - 10s 28ms/step - loss: 0.0017 - val_loss: 0.0018\n",
            "Epoch 35/50\n",
            "375/375 [==============================] - 10s 27ms/step - loss: 0.0017 - val_loss: 0.0015\n",
            "Epoch 36/50\n",
            "375/375 [==============================] - 10s 28ms/step - loss: 0.0017 - val_loss: 0.0018\n",
            "Epoch 37/50\n",
            "375/375 [==============================] - 10s 28ms/step - loss: 0.0017 - val_loss: 0.0016\n",
            "Epoch 38/50\n",
            "375/375 [==============================] - 10s 28ms/step - loss: 0.0017 - val_loss: 0.0015\n",
            "Epoch 39/50\n",
            "375/375 [==============================] - 10s 28ms/step - loss: 0.0016 - val_loss: 0.0018\n",
            "Epoch 40/50\n",
            "375/375 [==============================] - 10s 28ms/step - loss: 0.0016 - val_loss: 0.0018\n",
            "Epoch 41/50\n",
            "375/375 [==============================] - 10s 28ms/step - loss: 0.0016 - val_loss: 0.0016\n",
            "Epoch 42/50\n",
            "375/375 [==============================] - 10s 28ms/step - loss: 0.0016 - val_loss: 0.0015\n",
            "Epoch 43/50\n",
            "375/375 [==============================] - 11s 28ms/step - loss: 0.0016 - val_loss: 0.0017\n",
            "Epoch 44/50\n",
            "375/375 [==============================] - 10s 28ms/step - loss: 0.0016 - val_loss: 0.0016\n",
            "Epoch 45/50\n",
            "375/375 [==============================] - 10s 28ms/step - loss: 0.0015 - val_loss: 0.0018\n",
            "Epoch 46/50\n",
            "375/375 [==============================] - 10s 28ms/step - loss: 0.0016 - val_loss: 0.0016\n",
            "Epoch 47/50\n",
            "375/375 [==============================] - 10s 28ms/step - loss: 0.0015 - val_loss: 0.0018\n",
            "Epoch 48/50\n",
            "375/375 [==============================] - 10s 28ms/step - loss: 0.0016 - val_loss: 0.0017\n",
            "Epoch 49/50\n",
            "375/375 [==============================] - 10s 28ms/step - loss: 0.0015 - val_loss: 0.0015\n",
            "Epoch 50/50\n",
            "375/375 [==============================] - 10s 28ms/step - loss: 0.0015 - val_loss: 0.0017\n"
          ],
          "name": "stdout"
        }
      ]
    },
    {
      "cell_type": "code",
      "metadata": {
        "colab": {
          "base_uri": "https://localhost:8080/",
          "height": 281
        },
        "id": "KKVxmgCbzlOa",
        "outputId": "5934242b-6f15-436c-c669-dddd957904e2"
      },
      "source": [
        "loss = autoencoder_train.history['loss']\n",
        "val_loss = autoencoder_train.history['val_loss']\n",
        "epochs = range(epochs)\n",
        "plt.figure()\n",
        "plt.plot(epochs, loss, 'bo', label='Training loss')\n",
        "plt.plot(epochs, val_loss, 'b', label='Validation loss')\n",
        "plt.title('Training and validation loss')\n",
        "plt.legend()\n",
        "plt.show()"
      ],
      "execution_count": null,
      "outputs": [
        {
          "output_type": "display_data",
          "data": {
            "image/png": "[encoded data removed]",
            "text/plain": [
              "<Figure size 432x288 with 1 Axes>"
            ]
          },
          "metadata": {
            "tags": [],
            "needs_background": "light"
          }
        }
      ]
    },
    {
      "cell_type": "code",
      "metadata": {
        "id": "Yz6dlCYxzoOH"
      },
      "source": [
        "pred = autoencoder.predict(test_data)"
      ],
      "execution_count": null,
      "outputs": []
    },
    {
      "cell_type": "code",
      "metadata": {
        "colab": {
          "base_uri": "https://localhost:8080/",
          "height": 320
        },
        "id": "bXbS2YKFzsh-",
        "outputId": "1b38abab-e041-4fd4-c08d-f2dc72df1a54"
      },
      "source": [
        "plt.figure(figsize=(20, 4))\n",
        "print(\"Test Images\")\n",
        "for i in range(10):\n",
        "    plt.subplot(2, 10, i+1)\n",
        "    plt.imshow(test_data[i].reshape(28,28), cmap='gray')\n",
        "    curr_lbl = test_labels[i]\n",
        "    plt.title(\"(Label: \" + str(label_dict[curr_lbl]) + \")\")\n",
        "plt.show()    \n",
        "plt.figure(figsize=(20, 4))\n",
        "print(\"Reconstruction of Test Images\")\n",
        "for i in range(10):\n",
        "    plt.subplot(2, 10, i+1)\n",
        "    plt.imshow(pred[i].reshape(28,28), cmap='gray')  \n",
        "plt.show()"
      ],
      "execution_count": null,
      "outputs": [
        {
          "output_type": "stream",
          "text": [
            "Test Images\n"
          ],
          "name": "stdout"
        },
        {
          "output_type": "display_data",
          "data": {
            "image/png": "[encoded data removed]",
            "text/plain": [
              "<Figure size 1440x288 with 10 Axes>"
            ]
          },
          "metadata": {
            "tags": [],
            "needs_background": "light"
          }
        },
        {
          "output_type": "stream",
          "text": [
            "Reconstruction of Test Images\n"
          ],
          "name": "stdout"
        },
        {
          "output_type": "display_data",
          "data": {
            "image/png": "[encoded data removed]",
            "text/plain": [
              "<Figure size 1440x288 with 10 Axes>"
            ]
          },
          "metadata": {
            "tags": [],
            "needs_background": "light"
          }
        }
      ]
    }
  ]
}