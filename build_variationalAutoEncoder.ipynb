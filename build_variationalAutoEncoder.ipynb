{
  "nbformat": 4,
  "nbformat_minor": 0,
  "metadata": {
    "colab": {
      "name": "build_variationalAutoEncoder.ipynb",
      "provenance": [],
      "collapsed_sections": [],
      "authorship_tag": "ABX9TyNyFS9G8AO+2vD5pAD0cf7r",
      "include_colab_link": true
    },
    "kernelspec": {
      "name": "python3",
      "display_name": "Python 3"
    },
    "language_info": {
      "name": "python"
    },
    "accelerator": "GPU"
  },
  "cells": [
    {
      "cell_type": "markdown",
      "metadata": {
        "id": "view-in-github",
        "colab_type": "text"
      },
      "source": [
        "<a href=\"https://colab.research.google.com/github/saipuneet357/AutoEncoders/blob/main/build_variationalAutoEncoder.ipynb\" target=\"_parent\"><img src=\"https://colab.research.google.com/assets/colab-badge.svg\" alt=\"Open In Colab\"/></a>"
      ]
    },
    {
      "cell_type": "code",
      "metadata": {
        "id": "C19ivgEOfYhz"
      },
      "source": [
        "import numpy as np \n",
        "import pandas as pd\n",
        "import os \n",
        "os.environ[\"CUDA_DEVICE_ORDER\"]=\"PCI_BUS_ID\"\n",
        "os.environ[\"CUDA_VISIBLE_DEVICES\"]=\"0\" #model will be trained on GPU 1\n",
        "import keras\n",
        "from matplotlib import pyplot as plt\n",
        "import numpy as np\n",
        "import gzip\n",
        "%matplotlib inline\n",
        "from keras.layers import Input,Conv2D,MaxPooling2D,UpSampling2D,Lambda, Dense, Flatten, Reshape\n",
        "from keras.models import Model\n",
        "from keras.optimizers import RMSprop\n",
        "from google.colab import drive\n",
        "from sklearn.model_selection import train_test_split\n",
        "from keras import backend as K"
      ],
      "execution_count": 2,
      "outputs": []
    },
    {
      "cell_type": "code",
      "metadata": {
        "colab": {
          "base_uri": "https://localhost:8080/"
        },
        "id": "soP0F3RrhpGz",
        "outputId": "fe6d021b-047c-4f26-a47a-e86c1b71332d"
      },
      "source": [
        "drive.mount('/content/gdrive')\n"
      ],
      "execution_count": 3,
      "outputs": [
        {
          "output_type": "stream",
          "text": [
            "Mounted at /content/gdrive\n"
          ],
          "name": "stdout"
        }
      ]
    },
    {
      "cell_type": "code",
      "metadata": {
        "id": "Hn7pLkMhhzH7"
      },
      "source": [
        "location = '/content/gdrive/MyDrive/NotMnist'  "
      ],
      "execution_count": 4,
      "outputs": []
    },
    {
      "cell_type": "code",
      "metadata": {
        "id": "agwDq7SHiBhj"
      },
      "source": [
        "def extract_data(filename, num_images):\n",
        "    with gzip.open(filename) as bytestream:\n",
        "        bytestream.read(16)\n",
        "        buf = bytestream.read(28 * 28 * num_images)\n",
        "        data = np.frombuffer(buf, dtype=np.uint8).astype(np.float32)\n",
        "        data = data.reshape(num_images, 28,28)\n",
        "        return data"
      ],
      "execution_count": 5,
      "outputs": []
    },
    {
      "cell_type": "code",
      "metadata": {
        "id": "AahkkWdHjIhr"
      },
      "source": [
        "train_data = extract_data(location+'/train-images-idx3-ubyte.gz', 60000)\n",
        "test_data = extract_data(location+'/t10k-images-idx3-ubyte.gz', 10000)"
      ],
      "execution_count": 6,
      "outputs": []
    },
    {
      "cell_type": "code",
      "metadata": {
        "id": "RvIBzCe2jTpq"
      },
      "source": [
        "def extract_labels(filename, num_images):\n",
        "    with gzip.open(filename) as bytestream:\n",
        "        bytestream.read(8)\n",
        "        buf = bytestream.read(1 * num_images)\n",
        "        labels = np.frombuffer(buf, dtype=np.uint8).astype(np.int64)\n",
        "        return labels"
      ],
      "execution_count": 7,
      "outputs": []
    },
    {
      "cell_type": "code",
      "metadata": {
        "id": "sk77FlUaji2b"
      },
      "source": [
        "train_labels = extract_labels(location+'/train-labels-idx1-ubyte.gz',60000)\n",
        "test_labels = extract_labels(location+'/t10k-labels-idx1-ubyte.gz',10000)"
      ],
      "execution_count": 8,
      "outputs": []
    },
    {
      "cell_type": "code",
      "metadata": {
        "colab": {
          "base_uri": "https://localhost:8080/"
        },
        "id": "ChgpR5TujoPr",
        "outputId": "dc446d5e-2cdf-4c55-97c5-05f1f9e60eac"
      },
      "source": [
        "# Shapes of training set\n",
        "print(\"Training set (images) shape: {shape}\".format(shape=train_data.shape))\n",
        "\n",
        "# Shapes of test set\n",
        "print(\"Test set (images) shape: {shape}\".format(shape=test_data.shape))"
      ],
      "execution_count": 9,
      "outputs": [
        {
          "output_type": "stream",
          "text": [
            "Training set (images) shape: (60000, 28, 28)\n",
            "Test set (images) shape: (10000, 28, 28)\n"
          ],
          "name": "stdout"
        }
      ]
    },
    {
      "cell_type": "code",
      "metadata": {
        "id": "a2qlh4kRjsXt"
      },
      "source": [
        "# Create dictionary of target classes\n",
        "label_dict = {\n",
        " 0: 'A',\n",
        " 1: 'B',\n",
        " 2: 'C',\n",
        " 3: 'D',\n",
        " 4: 'E',\n",
        " 5: 'F',\n",
        " 6: 'G',\n",
        " 7: 'H',\n",
        " 8: 'I',\n",
        " 9: 'J',\n",
        "}"
      ],
      "execution_count": 10,
      "outputs": []
    },
    {
      "cell_type": "code",
      "metadata": {
        "colab": {
          "base_uri": "https://localhost:8080/",
          "height": 208
        },
        "id": "usZ-nQuJj1qr",
        "outputId": "80007f8f-6d88-4362-86d1-d196b9a98f52"
      },
      "source": [
        "plt.figure(figsize=[5,5])\n",
        "\n",
        "# Display the first image in training data\n",
        "plt.subplot(121)\n",
        "curr_img = np.reshape(train_data[0], (28,28))\n",
        "curr_lbl = train_labels[0]\n",
        "plt.imshow(curr_img, cmap='gray')\n",
        "plt.title(\"(Label: \" + str(label_dict[curr_lbl]) + \")\")\n",
        "\n",
        "# Display the first image in testing data\n",
        "plt.subplot(122)\n",
        "curr_img = np.reshape(test_data[0], (28,28))\n",
        "curr_lbl = test_labels[0]\n",
        "plt.imshow(curr_img, cmap='gray')\n",
        "plt.title(\"(Label: \" + str(label_dict[curr_lbl]) + \")\")"
      ],
      "execution_count": 11,
      "outputs": [
        {
          "output_type": "execute_result",
          "data": {
            "text/plain": [
              "Text(0.5, 1.0, '(Label: D)')"
            ]
          },
          "metadata": {
            "tags": []
          },
          "execution_count": 11
        },
        {
          "output_type": "display_data",
          "data": {
            "image/png": "[encoded data removed]",
            "text/plain": [
              "<Figure size 360x360 with 2 Axes>"
            ]
          },
          "metadata": {
            "tags": [],
            "needs_background": "light"
          }
        }
      ]
    },
    {
      "cell_type": "code",
      "metadata": {
        "id": "eei8PGyNkAo5"
      },
      "source": [
        "train_data = train_data.reshape(-1,28,28,1)\n",
        "test_data = test_data.reshape(-1, 28, 28, 1)\n",
        "train_data = train_data/np.max(train_data)\n",
        "test_data = test_data/np.max(test_data)\n",
        "train_X,valid_X,train_ground,valid_ground = train_test_split(train_data,\n",
        "                                                             train_data, \n",
        "                                                             test_size=0.2, \n",
        "                                                             random_state=13)"
      ],
      "execution_count": 12,
      "outputs": []
    },
    {
      "cell_type": "code",
      "metadata": {
        "id": "aXKmNYYnm6Ck"
      },
      "source": [
        "batch_size = 128\n",
        "epochs = 20\n",
        "inChannel = 1\n",
        "x, y = 28, 28\n",
        "input_img = Input(shape = (x, y, inChannel))\n",
        "latent_dim = 2"
      ],
      "execution_count": 13,
      "outputs": []
    },
    {
      "cell_type": "code",
      "metadata": {
        "id": "dI0VFKDBx7FC",
        "colab": {
          "base_uri": "https://localhost:8080/"
        },
        "outputId": "98608592-6768-4ed0-bc57-ce8c8a6b55cb"
      },
      "source": [
        "conv1 = Conv2D(32, (3, 3), activation='relu', padding='same')(input_img) #28 x 28 x 32\n",
        "pool1 = MaxPooling2D(pool_size=(2, 2))(conv1) #14 x 14 x 32\n",
        "conv2 = Conv2D(64, (3, 3), activation='relu', padding='same')(pool1) #14 x 14 x 64\n",
        "pool2 = MaxPooling2D(pool_size=(2, 2))(conv2) #7 x 7 x 64\n",
        "conv3 = Conv2D(128, (3, 3), activation='relu', padding='same')(pool2) #7 x 7 x 128 (small and thick)\n",
        "conv3_shape = K.int_shape(conv3)[1:]\n",
        "print(conv3_shape)"
      ],
      "execution_count": 14,
      "outputs": [
        {
          "output_type": "stream",
          "text": [
            "(7, 7, 128)\n"
          ],
          "name": "stdout"
        }
      ]
    },
    {
      "cell_type": "code",
      "metadata": {
        "colab": {
          "base_uri": "https://localhost:8080/"
        },
        "id": "cLdcxK8FyfUd",
        "outputId": "04414ecc-46bb-46d3-ea3f-068d0196bf9b"
      },
      "source": [
        "x = Flatten()(conv3)\n",
        "x = Dense(32, activation='relu')(x)\n",
        "print(K.int_shape(x))"
      ],
      "execution_count": 15,
      "outputs": [
        {
          "output_type": "stream",
          "text": [
            "(None, 32)\n"
          ],
          "name": "stdout"
        }
      ]
    },
    {
      "cell_type": "code",
      "metadata": {
        "id": "awMC5Q0ZzSea"
      },
      "source": [
        "z_mu = Dense(latent_dim, name='latent_mu')(x)\n",
        "z_sigma = Dense(latent_dim, name='latent_sigma')(x)"
      ],
      "execution_count": 16,
      "outputs": []
    },
    {
      "cell_type": "code",
      "metadata": {
        "id": "tUZfEXv-zsmu"
      },
      "source": [
        "def sample_z(args):\n",
        "  z_mu, z_sigma = args\n",
        "  epsilon = K.random_normal(shape=K.shape(z_mu), mean=0.0, stddev=1.0)\n",
        "  return z_mu + K.exp(z_sigma/2)*epsilon"
      ],
      "execution_count": 17,
      "outputs": []
    },
    {
      "cell_type": "code",
      "metadata": {
        "id": "ph0xQJ830H8F"
      },
      "source": [
        "z = Lambda(sample_z, name='z')([z_mu, z_sigma])"
      ],
      "execution_count": 18,
      "outputs": []
    },
    {
      "cell_type": "code",
      "metadata": {
        "id": "j_rt6oMa1OW5",
        "colab": {
          "base_uri": "https://localhost:8080/"
        },
        "outputId": "77c3a1a8-5ba2-48f1-c542-8fa75b42c911"
      },
      "source": [
        "encoder = Model(input_img, z, name='encoder')\n",
        "print(encoder.summary())"
      ],
      "execution_count": 19,
      "outputs": [
        {
          "output_type": "stream",
          "text": [
            "Model: \"encoder\"\n",
            "__________________________________________________________________________________________________\n",
            "Layer (type)                    Output Shape         Param #     Connected to                     \n",
            "==================================================================================================\n",
            "input_1 (InputLayer)            [(None, 28, 28, 1)]  0                                            \n",
            "__________________________________________________________________________________________________\n",
            "conv2d (Conv2D)                 (None, 28, 28, 32)   320         input_1[0][0]                    \n",
            "__________________________________________________________________________________________________\n",
            "max_pooling2d (MaxPooling2D)    (None, 14, 14, 32)   0           conv2d[0][0]                     \n",
            "__________________________________________________________________________________________________\n",
            "conv2d_1 (Conv2D)               (None, 14, 14, 64)   18496       max_pooling2d[0][0]              \n",
            "__________________________________________________________________________________________________\n",
            "max_pooling2d_1 (MaxPooling2D)  (None, 7, 7, 64)     0           conv2d_1[0][0]                   \n",
            "__________________________________________________________________________________________________\n",
            "conv2d_2 (Conv2D)               (None, 7, 7, 128)    73856       max_pooling2d_1[0][0]            \n",
            "__________________________________________________________________________________________________\n",
            "flatten (Flatten)               (None, 6272)         0           conv2d_2[0][0]                   \n",
            "__________________________________________________________________________________________________\n",
            "dense (Dense)                   (None, 32)           200736      flatten[0][0]                    \n",
            "__________________________________________________________________________________________________\n",
            "latent_mu (Dense)               (None, 2)            66          dense[0][0]                      \n",
            "__________________________________________________________________________________________________\n",
            "latent_sigma (Dense)            (None, 2)            66          dense[0][0]                      \n",
            "__________________________________________________________________________________________________\n",
            "z (Lambda)                      (None, 2)            0           latent_mu[0][0]                  \n",
            "                                                                 latent_sigma[0][0]               \n",
            "==================================================================================================\n",
            "Total params: 293,540\n",
            "Trainable params: 293,540\n",
            "Non-trainable params: 0\n",
            "__________________________________________________________________________________________________\n",
            "None\n"
          ],
          "name": "stdout"
        }
      ]
    },
    {
      "cell_type": "code",
      "metadata": {
        "id": "5opKqi2_17dO",
        "colab": {
          "base_uri": "https://localhost:8080/"
        },
        "outputId": "8fe55e1a-a63e-419a-9a90-65fbd23fc385"
      },
      "source": [
        "decoder_input = Input(shape = (latent_dim), name='decoder_input')\n",
        "real_dim = Dense(np.prod(conv3_shape), name='real_dim')(decoder_input)\n",
        "reshape = Reshape(conv3_shape)(real_dim)\n",
        "conv4 = Conv2D(128, (3, 3), activation='relu', padding='same')(reshape) #7 x 7 x 128\n",
        "up1 = UpSampling2D((2,2))(conv4) # 14 x 14 x 128\n",
        "conv5 = Conv2D(64, (3, 3), activation='relu', padding='same')(up1) # 14 x 14 x 64\n",
        "up2 = UpSampling2D((2,2))(conv5) # 28 x 28 x 64\n",
        "decoder_output = Conv2D(1, (3, 3), activation='sigmoid', padding='same')(up2) # 28 x 28 x 1\n",
        "decoder = Model(decoder_input, decoder_output, name='decoder')\n",
        "decoder.summary()"
      ],
      "execution_count": 20,
      "outputs": [
        {
          "output_type": "stream",
          "text": [
            "Model: \"decoder\"\n",
            "_________________________________________________________________\n",
            "Layer (type)                 Output Shape              Param #   \n",
            "=================================================================\n",
            "decoder_input (InputLayer)   [(None, 2)]               0         \n",
            "_________________________________________________________________\n",
            "real_dim (Dense)             (None, 6272)              18816     \n",
            "_________________________________________________________________\n",
            "reshape (Reshape)            (None, 7, 7, 128)         0         \n",
            "_________________________________________________________________\n",
            "conv2d_3 (Conv2D)            (None, 7, 7, 128)         147584    \n",
            "_________________________________________________________________\n",
            "up_sampling2d (UpSampling2D) (None, 14, 14, 128)       0         \n",
            "_________________________________________________________________\n",
            "conv2d_4 (Conv2D)            (None, 14, 14, 64)        73792     \n",
            "_________________________________________________________________\n",
            "up_sampling2d_1 (UpSampling2 (None, 28, 28, 64)        0         \n",
            "_________________________________________________________________\n",
            "conv2d_5 (Conv2D)            (None, 28, 28, 1)         577       \n",
            "=================================================================\n",
            "Total params: 240,769\n",
            "Trainable params: 240,769\n",
            "Non-trainable params: 0\n",
            "_________________________________________________________________\n"
          ],
          "name": "stdout"
        }
      ]
    },
    {
      "cell_type": "code",
      "metadata": {
        "id": "TuP63uLhIDq-"
      },
      "source": [
        "vae_input = Input(shape=(input_img.shape[1], input_img.shape[2], input_img.shape[3]), name='VAE_input')"
      ],
      "execution_count": 21,
      "outputs": []
    },
    {
      "cell_type": "code",
      "metadata": {
        "colab": {
          "base_uri": "https://localhost:8080/"
        },
        "id": "k0sblFiiIpUK",
        "outputId": "7138f3b6-8b51-46d2-a578-d577beb9ae83"
      },
      "source": [
        "vae_encoder_output = encoder(vae_input)\n",
        "vae_decoder_output = decoder(vae_encoder_output)\n",
        "vae = Model(vae_input, vae_decoder_output, name='VAE')\n",
        "vae.summary()"
      ],
      "execution_count": 22,
      "outputs": [
        {
          "output_type": "stream",
          "text": [
            "Model: \"VAE\"\n",
            "_________________________________________________________________\n",
            "Layer (type)                 Output Shape              Param #   \n",
            "=================================================================\n",
            "VAE_input (InputLayer)       [(None, 28, 28, 1)]       0         \n",
            "_________________________________________________________________\n",
            "encoder (Functional)         (None, 2)                 293540    \n",
            "_________________________________________________________________\n",
            "decoder (Functional)         (None, 28, 28, 1)         240769    \n",
            "=================================================================\n",
            "Total params: 534,309\n",
            "Trainable params: 534,309\n",
            "Non-trainable params: 0\n",
            "_________________________________________________________________\n"
          ],
          "name": "stdout"
        }
      ]
    },
    {
      "cell_type": "code",
      "metadata": {
        "id": "Q0SqU78iJHd7"
      },
      "source": [
        "def loss_func(encoder_mu, encoder_log_variance):\n",
        "    def vae_reconstruction_loss(y_true, y_predict):\n",
        "        reconstruction_loss_factor = 1000\n",
        "        reconstruction_loss = K.mean(K.square(y_true-y_predict), axis=[1, 2, 3])\n",
        "        return reconstruction_loss_factor * reconstruction_loss\n",
        "\n",
        "    def vae_kl_loss(encoder_mu, encoder_log_variance):\n",
        "        kl_loss = -0.5 * K.sum(1.0 + encoder_log_variance - K.square(encoder_mu) - K.exp(encoder_log_variance), axis=1)\n",
        "        return kl_loss\n",
        "\n",
        "    def vae_kl_loss_metric(y_true, y_predict):\n",
        "        kl_loss = -0.5 * K.sum(1.0 + encoder_log_variance - K.square(encoder_mu) - K.exp(encoder_log_variance), axis=1)\n",
        "        return kl_loss\n",
        "\n",
        "    def vae_loss(y_true, y_predict):\n",
        "        reconstruction_loss = vae_reconstruction_loss(y_true, y_predict)\n",
        "        kl_loss = vae_kl_loss(y_true, y_predict)\n",
        "\n",
        "        loss = reconstruction_loss + kl_loss\n",
        "        return loss\n",
        "\n",
        "    return vae_loss\n",
        "vae.compile(optimizer='adam', loss=loss_func(z_mu, z_sigma))"
      ],
      "execution_count": 23,
      "outputs": []
    },
    {
      "cell_type": "code",
      "metadata": {
        "id": "XjUMpgtEOAIy",
        "colab": {
          "base_uri": "https://localhost:8080/"
        },
        "outputId": "4432175c-bcce-4ab8-f009-dc04e75f5d76"
      },
      "source": [
        "vae_train = vae.fit(train_X, train_X, batch_size=batch_size,epochs=epochs,verbose=1,validation_data=(valid_X, valid_X))"
      ],
      "execution_count": 24,
      "outputs": [
        {
          "output_type": "stream",
          "text": [
            "Epoch 1/20\n",
            "375/375 [==============================] - 50s 15ms/step - loss: 152.5529 - val_loss: 119.7279\n",
            "Epoch 2/20\n",
            "375/375 [==============================] - 5s 13ms/step - loss: 119.0134 - val_loss: 113.2214\n",
            "Epoch 3/20\n",
            "375/375 [==============================] - 5s 13ms/step - loss: 112.6243 - val_loss: 109.5058\n",
            "Epoch 4/20\n",
            "375/375 [==============================] - 5s 13ms/step - loss: 109.4447 - val_loss: 107.1344\n",
            "Epoch 5/20\n",
            "375/375 [==============================] - 5s 13ms/step - loss: 108.2649 - val_loss: 106.5251\n",
            "Epoch 6/20\n",
            "375/375 [==============================] - 5s 13ms/step - loss: 105.6855 - val_loss: 103.7954\n",
            "Epoch 7/20\n",
            "375/375 [==============================] - 5s 13ms/step - loss: 104.0130 - val_loss: 103.0073\n",
            "Epoch 8/20\n",
            "375/375 [==============================] - 5s 13ms/step - loss: 103.3676 - val_loss: 102.4978\n",
            "Epoch 9/20\n",
            "375/375 [==============================] - 5s 13ms/step - loss: 102.1356 - val_loss: 101.4687\n",
            "Epoch 10/20\n",
            "375/375 [==============================] - 5s 13ms/step - loss: 101.1534 - val_loss: 100.9815\n",
            "Epoch 11/20\n",
            "375/375 [==============================] - 5s 13ms/step - loss: 100.5542 - val_loss: 100.8308\n",
            "Epoch 12/20\n",
            "375/375 [==============================] - 5s 13ms/step - loss: 99.8828 - val_loss: 102.1253\n",
            "Epoch 13/20\n",
            "375/375 [==============================] - 5s 13ms/step - loss: 99.4578 - val_loss: 100.2047\n",
            "Epoch 14/20\n",
            "375/375 [==============================] - 5s 13ms/step - loss: 99.5980 - val_loss: 99.4781\n",
            "Epoch 15/20\n",
            "375/375 [==============================] - 5s 13ms/step - loss: 97.8021 - val_loss: 98.5153\n",
            "Epoch 16/20\n",
            "375/375 [==============================] - 5s 13ms/step - loss: 98.3241 - val_loss: 99.5366\n",
            "Epoch 17/20\n",
            "375/375 [==============================] - 5s 13ms/step - loss: 98.5816 - val_loss: 97.4594\n",
            "Epoch 18/20\n",
            "375/375 [==============================] - 5s 13ms/step - loss: 97.6500 - val_loss: 97.1096\n",
            "Epoch 19/20\n",
            "375/375 [==============================] - 5s 13ms/step - loss: 96.9357 - val_loss: 103.4516\n",
            "Epoch 20/20\n",
            "375/375 [==============================] - 5s 13ms/step - loss: 97.3621 - val_loss: 97.9879\n"
          ],
          "name": "stdout"
        }
      ]
    },
    {
      "cell_type": "code",
      "metadata": {
        "colab": {
          "base_uri": "https://localhost:8080/",
          "height": 281
        },
        "id": "KKVxmgCbzlOa",
        "outputId": "b18e8ebe-c46b-4250-a28d-9ef662cfd75f"
      },
      "source": [
        "loss = vae_train.history['loss']\n",
        "val_loss = vae_train.history['val_loss']\n",
        "epochs = range(epochs)\n",
        "plt.figure()\n",
        "plt.plot(epochs, loss, 'bo', label='Training loss')\n",
        "plt.plot(epochs, val_loss, 'b', label='Validation loss')\n",
        "plt.title('Training and validation loss')\n",
        "plt.legend()\n",
        "plt.show()"
      ],
      "execution_count": 25,
      "outputs": [
        {
          "output_type": "display_data",
          "data": {
            "image/png": "[encoded data removed]",
            "text/plain": [
              "<Figure size 432x288 with 1 Axes>"
            ]
          },
          "metadata": {
            "tags": [],
            "needs_background": "light"
          }
        }
      ]
    },
    {
      "cell_type": "code",
      "metadata": {
        "id": "Yz6dlCYxzoOH"
      },
      "source": [
        "pred = vae.predict(test_data)"
      ],
      "execution_count": 27,
      "outputs": []
    },
    {
      "cell_type": "code",
      "metadata": {
        "colab": {
          "base_uri": "https://localhost:8080/",
          "height": 320
        },
        "id": "bXbS2YKFzsh-",
        "outputId": "b1a3694e-0af5-40c9-a62a-5cb1f5cb1fa9"
      },
      "source": [
        "plt.figure(figsize=(20, 4))\n",
        "print(\"Real Image\")\n",
        "for i in range(10):\n",
        "    plt.subplot(2, 10, i+1)\n",
        "    plt.imshow(test_data[i].reshape(28,28), cmap='gray')\n",
        "    curr_lbl = test_labels[i]\n",
        "    plt.title(\"(Label: \" + str(label_dict[curr_lbl]) + \")\")\n",
        "plt.show()      \n",
        "plt.figure(figsize=(20, 4))\n",
        "print(\"Reconstruction of Test Images\")\n",
        "for i in range(10):\n",
        "    plt.subplot(2, 10, i+1)\n",
        "    plt.imshow(pred[i].reshape(28,28), cmap='gray')  \n",
        "plt.show()"
      ],
      "execution_count": 29,
      "outputs": [
        {
          "output_type": "stream",
          "text": [
            "Real Image\n"
          ],
          "name": "stdout"
        },
        {
          "output_type": "display_data",
          "data": {
            "image/png": "[encoded data removed]",
            "text/plain": [
              "<Figure size 1440x288 with 10 Axes>"
            ]
          },
          "metadata": {
            "tags": [],
            "needs_background": "light"
          }
        },
        {
          "output_type": "stream",
          "text": [
            "Reconstruction of Test Images\n"
          ],
          "name": "stdout"
        },
        {
          "output_type": "display_data",
          "data": {
            "image/png": "[encoded data removed]",
            "text/plain": [
              "<Figure size 1440x288 with 10 Axes>"
            ]
          },
          "metadata": {
            "tags": [],
            "needs_background": "light"
          }
        }
      ]
    }
  ]
}